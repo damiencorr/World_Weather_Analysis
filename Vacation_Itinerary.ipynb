{
 "cells": [
  {
   "cell_type": "code",
   "execution_count": 159,
   "metadata": {},
   "outputs": [],
   "source": [
    "# Module 6 Challenge - PART 3\n",
    "\n",
    "# Part 3 Instructions\n",
    "# Create a Travel Itinerary with a Corresponding Map\n",
    "# Finally, create a map (travel itinerary) that shows the route between four cities from the customer’s possible travel destinations, and then create a map with pop-up markers for the four cities.\n",
    "\n",
    "# 1. Enable the “Directions API” in your Google account for your API key. - DONE!\n",
    "# - On the Google Cloud Platform, select APIs from the left-hand side.\n",
    "# - Then, select \"Directions API.\"\n",
    "# - Click “Enable” on the Directions API. \n",
    "\n",
    "# 2. Create a new Jupyter Notebook file and label it Vacation_Itinerary.ipynb. - DONE - THIS FILE!\n",
    "# 3. Import the WeatherPy_vacation.csv file as a new DataFrame.\n",
    "# 4. From the vacation search map, choose four cities that a customer might want to visit. They should be close together and on the same continent.\n",
    "# - NOTE: You may have to refine your search with the customer prompts to get cities that are close together.\n",
    "# 5. Create separate DataFrames for each city on the travel route, using the loc attribute.\n",
    "# 6. To map each city on the route, get the latitude-longitude pairs for each city DataFrame as tuples.\n",
    "# - Hint: To get the “values” of the latitude and longitude for each city use list indexing for each city DataFrame.\n",
    "# - If you’d like a hint on getting the “values” of the latitude and longitude for each city using list indexing, that’s totally okay. If not, that’s great too. You can always revisit this later if you change your mind.\n",
    "# - To use the Pandas values (Links to an external site.) or to_numpy()  (Links to an external site.)methods and list indexing to get the values for the latitude and longitude.\n",
    "# Use the directions Layer instructions from the gmaps documentation (Links to an external site.).\n",
    "# - For the travel_mode, use either DRIVING, BICYCLING, or WALKING.\n",
    "# 7. Take a screenshot of the route and save it as WeatherPy_travel_map.png.\n",
    "# 8. Create a marker layer map for the four cities.\n",
    "# - Hint: Combine the four separate DataFrames for each city into one DataFrame.\n",
    "# - If you’d like a hint on combining DataFrames into one DataFrame, that’s totally okay. If not, that’s great too. You can always revisit this later if you change your mind.\n",
    "# - HINT: To combine DataFrames that have the same columns (axis), we can use the Pandas concat() function (Links to an external site.).\n",
    "# 9. On the marker layer map, make sure each city has a pop-up marker that contains the following:\n",
    "# - Hotel name\n",
    "# - City\n",
    "# - Country\n",
    "# - Current weather description with the maximum temperature\n",
    "# 10. Take a screenshot of the marker layer map for the route and save it as WeatherPy_travel_map_markers.png.\n",
    "\n"
   ]
  },
  {
   "cell_type": "code",
   "execution_count": 160,
   "metadata": {},
   "outputs": [],
   "source": [
    "# Import the dependencies.\n",
    "import pandas as pd\n",
    "import gmaps\n",
    "import requests\n",
    "# Import the Goggle Maps API key.\n",
    "from config import g_key\n"
   ]
  },
  {
   "cell_type": "code",
   "execution_count": 204,
   "metadata": {},
   "outputs": [],
   "source": [
    "# 3. Import the WeatherPy_vacation.csv file as a new DataFrame.\n",
    "city_weather_data_df = pd.read_csv(\"weather_data/WeatherPy_vacation.csv\", index_col='City_ID')\n",
    "#city_weather_data_df"
   ]
  },
  {
   "cell_type": "code",
   "execution_count": 205,
   "metadata": {},
   "outputs": [],
   "source": [
    "# 4. From the vacation search map, choose four cities that a customer might want to visit. \n",
    "# - They should be close together and on the same continent.\n",
    "# I chose the following from available results, all in NZ.\n",
    "# Kaitangata, NZ - df index # 492\n",
    "# Mataura, NZ - df index # 46\n",
    "# Dunedin NZ - df index # 448\n",
    "# Ahipara NZ - df index # 360\n",
    "selected_cities = (492,46,448,360)\n",
    "selected_cities = ('Kaitangata','Mataura','Dunedin','Ahipara')\n",
    "\n",
    "# 5. Create separate DataFrames for each city on the travel route, using the loc attribute.\n",
    "# List to contain a dataframe for each selected city\n",
    "cities_on_route=[]\n",
    "\n",
    "# Add dataframe for each city to list\n",
    "for i in selected_cities:\n",
    "    #cities_on_route.append(city_weather_data_df.loc[i].to_frame().transpose())\n",
    "    cities_on_route.append(city_weather_data_df.loc[city_weather_data_df['City'] == i])\n",
    "#for i in cities_on_route:\n",
    "#    display(i)"
   ]
  },
  {
   "cell_type": "code",
   "execution_count": 225,
   "metadata": {},
   "outputs": [
    {
     "data": {
      "text/plain": [
       "[(-46.28, 169.85), (-46.19, 168.86), (-45.87, 170.5), (-35.17, 173.17)]"
      ]
     },
     "execution_count": 225,
     "metadata": {},
     "output_type": "execute_result"
    }
   ],
   "source": [
    "# 6. To map each city on the route, get the latitude-longitude pairs for each city DataFrame as tuples.\n",
    "city_tuples = []\n",
    "\n",
    "for i in cities_on_route:\n",
    "    city_tuples.append((float(i['Lat']), float(i['Lng'])))\n",
    "\n",
    "#city1 = (float(cities_on_route[0]['Lat']), float(cities_on_route[0]['Lng']))\n",
    "#city2 = (float(cities_on_route[1]['Lat']), float(cities_on_route[1]['Lng']))\n",
    "#city3 = (float(cities_on_route[2]['Lat']), float(cities_on_route[2]['Lng']))\n",
    "#city4 = (float(cities_on_route[3]['Lat']), float(cities_on_route[3]['Lng']))\n",
    "#print(city1, city2, city3, city4)\n",
    "\n",
    "city_tuples"
   ]
  },
  {
   "cell_type": "code",
   "execution_count": 235,
   "metadata": {},
   "outputs": [
    {
     "data": {
      "application/vnd.jupyter.widget-view+json": {
       "model_id": "3871df70e7164692ac28470da06f25c8",
       "version_major": 2,
       "version_minor": 0
      },
      "text/plain": [
       "Figure(layout=FigureLayout(height='420px'))"
      ]
     },
     "metadata": {},
     "output_type": "display_data"
    }
   ],
   "source": [
    "# Tell gmaps to use your API key, needed only once.\n",
    "gmaps.configure(api_key=g_key)\n",
    "\n",
    "# Use the four latitude-longitude pairs of tuples\n",
    "fig = gmaps.figure()\n",
    "challenge_route = gmaps.directions_layer(\n",
    "        city_tuples[0], city_tuples[-1], waypoints=[city_tuples[1],city_tuples[2]],\n",
    "        travel_mode='BICYCLING')\n",
    "fig.add_layer(challenge_route)\n",
    "fig\n",
    "\n",
    "# 7. Take a screenshot of the route and save it as WeatherPy_travel_map.png. - DONE!"
   ]
  },
  {
   "cell_type": "code",
   "execution_count": 249,
   "metadata": {
    "scrolled": true
   },
   "outputs": [
    {
     "data": {
      "application/vnd.jupyter.widget-view+json": {
       "model_id": "c17246bc86eb41d4ac673bbbae15138b",
       "version_major": 2,
       "version_minor": 0
      },
      "text/plain": [
       "Figure(layout=FigureLayout(height='420px'))"
      ]
     },
     "metadata": {},
     "output_type": "display_data"
    }
   ],
   "source": [
    "# 8. Create a marker layer map for the four cities.\n",
    "# - Hint: Combine the four separate DataFrames for each city into one DataFrame.\n",
    "\n",
    "route_df = pd.concat(cities_on_route)\n",
    "#display(route_df)\n",
    "\n",
    "# 9. On the marker layer map, make sure each city has a pop-up marker that contains the following:\n",
    "# - Hotel name\n",
    "# - City\n",
    "# - Country\n",
    "# - Current weather description with the maximum temperature\n",
    "\n",
    "# Add popup marker for each city\n",
    "info_box_template = \"\"\"\n",
    "<dl>\n",
    "<dt>Hotel Name</dt><dd>{Hotel Name}</dd>\n",
    "<dt>City</dt><dd>{City}</dd>\n",
    "<dt>Country</dt><dd>{Country}</dd>\n",
    "<dt>Current Weather Description</dt><dd>{Weather}</dd>\n",
    "<dt>Max Temp</dt><dd>{Max Temp} °F</dd>\n",
    "</dl>\n",
    "\"\"\"\n",
    "\n",
    "# Store the DataFrame Row.\n",
    "city_info = [info_box_template.format(**row) for index, row in route_df.iterrows()]\n",
    "#display(city_info)\n",
    "\n",
    "# Add a pop-up marker for each city.\n",
    "locations=route_df[['Lat','Lng']]\n",
    "#print(locations)\n",
    "\n",
    "fig = gmaps.figure(\n",
    "#    map_type='SATELLITE'\n",
    ")\n",
    "\n",
    "# NOTE: MARKER_LAYER template does not seem to work if directions layer is included\n",
    "#challenge_route = gmaps.directions_layer(city_tuples[0], city_tuples[-1], waypoints=[city_tuples[1],city_tuples[2]],travel_mode='BICYCLING')\n",
    "#fig.add_layer(challenge_route)\n",
    "\n",
    "marker_layer = gmaps.marker_layer(locations, info_box_content=city_info)\n",
    "fig.add_layer(marker_layer)\n",
    "\n",
    "fig\n",
    "\n",
    "# 10. Take a screenshot of the marker layer map for the route and save it as WeatherPy_travel_map_markers.png.\n"
   ]
  },
  {
   "cell_type": "code",
   "execution_count": null,
   "metadata": {},
   "outputs": [],
   "source": []
  }
 ],
 "metadata": {
  "kernelspec": {
   "display_name": "PythonData",
   "language": "python",
   "name": "pythondata"
  },
  "language_info": {
   "codemirror_mode": {
    "name": "ipython",
    "version": 3
   },
   "file_extension": ".py",
   "mimetype": "text/x-python",
   "name": "python",
   "nbconvert_exporter": "python",
   "pygments_lexer": "ipython3",
   "version": "3.7.7"
  }
 },
 "nbformat": 4,
 "nbformat_minor": 4
}
